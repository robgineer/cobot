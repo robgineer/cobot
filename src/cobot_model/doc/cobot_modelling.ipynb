{
 "cells": [
  {
   "cell_type": "markdown",
   "id": "ed1af1f2-c664-4fca-bb97-17a8e643286b",
   "metadata": {},
   "source": [
    "# Modelling the Cobot\n",
    "\n",
    "Since the model provided was not complete w.r.t. several attributes, a re-modelling of the URDF was required.\n",
    "\n",
    "Required adaptions:\n",
    "\n",
    "1. Position of links:\n",
    "   the original URDF model contained transformations (rotations and translations) within the joints as well as within the link tags. This made the model understanding difficult. Hence, the first task was to re-define the link / joint positions based on the REP-103 convention, https://www.ros.org/reps/rep-0103.html, implying the usage of the right hand rule:  \n",
    "   ```\n",
    "   x forward\n",
    "   y left\n",
    "   z up\n",
    "   ```\n",
    "   \n",
    "   Furthermore, we have defined the rotation axis as $Z$ for each joint. Although not necessary, it represents a common practise used in robotics modelling.\n",
    "   \n",
    "   <img src=\"img/inertial_urdf.png\" alt=\"inertial_urdf\" width=\"300\"/>\n",
    "   \n",
    "   (source: [ROS Wiki](http://wiki.ros.org/urdf/XML/link))\n",
    "\n",
    "   We used the [Phobos Blender Plugin](https://github.com/dfki-ric/phobos) for the manual adaptions of the transformations.\n",
    "\n",
    "2. Modelling physical attributes:\n",
    "   neither the mass nor the inertia values were present within the original URDF. The attempts to derive the values for each robot element are described in the following.<br/>\n",
    "   Summary\n",
    "   * mass: we used the volume of each element and expected it to be filled with water (this resulted in an estimated mass value for each element).\n",
    "   * inertia: we approximated the elements with basic shapes (cuboid / cylinder) and applied inertia tensors using their dimension values.\n",
    "3. The URDF did not define any collision tags. We have reused the visual meshes (with reduced faces to derive realistic collisions for each segment).\n",
    "\n",
    "# Robot Overview\n",
    "\n",
    "The cobot model defines \n",
    "* 7 segments, \n",
    "* 2 fingers (representing the gripper), \n",
    "* one TCP element for the gripper \n",
    "* two vacuum grippers \n",
    "* two TCP elements for the vacuum grippers\n",
    "* an axis element and \n",
    "* a corresponding mount.\n",
    "\n",
    "Segments, fingers, the axis, the carriage and the TCP represent \"links\" in URDF.\n",
    "\n",
    "<img src=\"img/cobot_full.png\" alt=\"cobot_full\" width=\"400\"/>\n"
   ]
  },
  {
   "cell_type": "markdown",
   "id": "1f16a29a",
   "metadata": {},
   "source": [
    "## Position of links (rotations)\n",
    "\n",
    "The links (meshes) have been adjusted in Blender to match a rotation in $z$ direction. An overview of all rotations is provided in the following.\n",
    "\n",
    "| 90 deg in x direction | 90 deg in y direction | 90 deg in y direction |  -90 deg in y direction | 45 deg in z direction |\n",
    "|-----------------------|-----------------------|-----------------------|-----------------------|-----------------------|\n",
    "| <br/> <img src=\"img/rotation_1.png\" alt=\"rotation_1\" width=\"200\"/> | <img src=\"img/rotation_2.png\" alt=\"rotation_2\" width=\"200\"/>  | <img src=\"img/rotation_3.png\" alt=\"rotation_3\" width=\"200\"/>  | <img src=\"img/rotation_4.png\" alt=\"rotation_4\" width=\"200\"/>  | <img src=\"img/rotation_5.png\" alt=\"rotation_5\" width=\"200\"/>|\n",
    "\n",
    "\n",
    "## Position of grippers\n",
    "\n",
    "<img src=\"img/tool_base.png\" alt=\"toll_base\" width=\"200\"/>\n",
    "\n",
    "The grippers are attached to the virtual link \"flange\" that represents its own axis (tiled by 45 deg, refer above) for tool specific links.\n",
    "```\n",
    "segment_7\n",
    "   |_ flange\n",
    "       |_ tool_base\n",
    "            |_ gripper_tcp\n",
    "            |_ finger_1\n",
    "            |_ finger_2\n",
    "            |_ vacuum_gripper_up\n",
    "                |_ vacuum_up_tcp\n",
    "            |_ vacuum_gripper_down\n",
    "                |_ vacuum_down_tcp\n",
    "\n",
    "```\n",
    "Since the vacuum grippers can be controlled separately, each has its own joint and a corresponding TCP (placed at the end of each gripper).\n",
    "\n"
   ]
  },
  {
   "cell_type": "markdown",
   "id": "92e0719b-ebc9-4f04-92e9-4ae88a4a2e99",
   "metadata": {},
   "source": [
    "# Deriving Physical Characteristics\n",
    "\n",
    "We will focus on the mass and the inertia values for each element in the following.\n",
    "\n",
    "## Estimating the Mass of Segments\n",
    "\n",
    "Since we do not have any information on the weight of each segment, we will estimate it using their volumes.\n",
    "\n",
    "### Volume Estimation\n",
    "\n",
    "Since our meshes are quite detailed, we can use them to identify the volume of the segments with 3D computer graphic software. Our preferred choices are [Blender](https://www.blender.org) and [MeshLab](https://www.meshlab.net). Both offer extensive support for mesh manipulation.<br/>\n",
    "\n",
    "For cross checks, we will estimate the volume by approximating the mesh with basic shapes: cuboids and cylinders.\n",
    "All we need is the size of the object in each dimension (as a bounding box or a radius with the height; both shown in Blender / MeshLab) and the corresponding formula for the volume calculation:<br/>\n",
    "\n",
    "Cuboid: $V = a \\cdot b \\cdot c$, with $a,b,c$ representing the size of the object in $x,y,z$ direction<br/>\n",
    "\n",
    "Cylinder: $V = \\pi \\cdot r^2 \\cdot h$, with $r$ representing radius of the cylinder and $h$ the height\n",
    "<br/>"
   ]
  },
  {
   "cell_type": "code",
   "execution_count": 39,
   "id": "9fa008db-ebdf-4b14-9151-8c00d440dbc2",
   "metadata": {},
   "outputs": [],
   "source": [
    "import math as m\n",
    "\n",
    "def get_volume_of_cylinder(r, z):\n",
    "    return m.pi * m.pow(r,2) * z\n",
    "\n",
    "def get_volume_of_cuboid(x, y, z):\n",
    "    return x * y * z"
   ]
  },
  {
   "cell_type": "markdown",
   "id": "34bf7cbc-6afd-40e7-9e99-5abc9e5b34cf",
   "metadata": {},
   "source": [
    "#### Volume Estimation in Blender\n",
    "\n",
    "```\n",
    "1. import the mesh in blender\n",
    "3. in object properties toolbox: scale X,Y,Z by 0.001 (to get meters as units)\n",
    "3. Edit -> Preferences -> Addons -> activate 3D Print Toolbox\n",
    "4. click on item, volume is shown in the 3d Print Toolbox menu\n",
    "```\n",
    "\n",
    "#### Volume Estimation in MeshLab\n",
    "\n",
    "Since we do not solely rely on Blender, we will also use MeshLab. Here, we need to first make the mesh \"watertight\" (interpreting the mesh as one closed surface): \n",
    "```\n",
    "1. import mesh\n",
    "2. Filters -> Remeshing, Simplification and Reconstruction -> Surface Reconstruction: Screened Poisson (default options)\n",
    "```\n",
    "Applying the screened poisson (a commonly used reconstruction method for complex shapes) will approximate its entire shape and will allow to calculate the geometric measures of the object.\n",
    "<br/>\n",
    "(It does sound a bit odd to reconstruct a mesh shape that is looks complete and functional. The reason behind seem to be missing information in the STL files that represent the meshes.)\n",
    "<br/>\n",
    "To get the geometric data from MeshLab, apply the following operations.\n",
    "```\n",
    "3. Filters -> Normals, Curvatures and Orientation -> Transform: Scale, Normalize -> scale X,Y,Z by 0.001\n",
    "4. Filters -> Quality, Measures and Computation -> Compute Geometric Measures\n",
    "(read the values either from the terminal or from the log window in MeshLab)\n",
    "```\n",
    "\n",
    "Note: MeshLab will also print the inertia tensor values that we are calculating here. Unfortunately these do not seem to align with out manual calculation and they are not working with gazebo (it complains about the values being \"invalid\"). They are also calculated based on the principal axis (which is not always correct in our case - refer below).<br/>"
   ]
  },
  {
   "cell_type": "markdown",
   "id": "15e33bea-3fcc-4273-8816-22e5983d7659",
   "metadata": {},
   "source": [
    "### Deriving Mass from Volume \n",
    "\n",
    "Once we have the volume, we derive the mass using \n",
    "$$\n",
    "m = \\rho \\cdot V\n",
    "$$ <br/>\n",
    "where $\\rho$ represents the density and $V$ the volume. <br/>\n",
    "\n",
    "For the density, we need to define a substance that fills the segment. Since it's usually a bunch of cables, aluminum, plastic, copper and air, we need to approximate these types all together. One idea is to expect the segment to be filled with water. Although this seems a bit overly simplified, it serves as a good estimation (and after all, what we need in the simulation are not actual values but ratios of physical attributes for elements w.r.t. each other).<br/>\n",
    "The density of water is defined as \n",
    "$$\n",
    "1000\\frac{kg}{m^3},\n",
    "$$\n",
    "\n",
    "implying that if an object has a volume of $0.001m^3$ and is filled with water, its mass results in $m = 1000\\frac{kg}{m^3} \\cdot 0.001m^3 = 1.0kg$.<br/>"
   ]
  },
  {
   "cell_type": "code",
   "execution_count": 40,
   "id": "ebc49049-4785-4ad2-a57c-7ababaa40ba5",
   "metadata": {},
   "outputs": [],
   "source": [
    "def get_mass_of_object(d, V):\n",
    "    return d * V"
   ]
  },
  {
   "cell_type": "markdown",
   "id": "1a637c99-ed96-4a5e-bda4-34b1858e4113",
   "metadata": {},
   "source": [
    "## Moments of Inertia\n",
    "\n",
    "When coping with simulation, we need to consider physical characteristics of objects such as their mass and their inertia; which using a simplified definition describes an object's \"resistance\" when rotational forces are applied to it. This resistance increases more than proportional with the size of the object and has a significant impact on the simulation.<br/>\n",
    "\n",
    "**Simplification of inertia**: the higher the inertia, the more torque needs to be applied in order to rotate an object.\n",
    "\n",
    "<br/>\n",
    "Since our goal is to enable a realistic simulation, we need to provide the inertia values for each component in our model (each segment / link of the robot).\n",
    "\n",
    "Note: inertia only applies to **revolute** joints. Hence, the elements **lin_axis**, **lin_axis_carriage**, **joint_0** and the **gripper** (being attached to prismatic joints) do not require them. Gazebo and other simulations still require each element to be assigned to an inertia tensor, however. The background is that although rotational forces are not applied to prismatic joints, their inertias are relevant for a system-wide simulation.\n",
    "\n",
    "\n",
    "### Inertia Tensors\n",
    "\n",
    "... describe the inertia in each direction ($x,y,z$). In order to simplify the derivation of the inertia values, we will approximate our robot elements with two basic shapes: cuboids and cylinders.\n",
    "\n",
    "![cuboid.png](img/cuboid.png) ![cylinder.png](img/cylinder.png)\n",
    "\n",
    "The inertia tensors of solid cuboids and cylinders that are rotated around the principal axis (the center of each axis) are shown in the following.\n",
    "\n",
    "#### Cuboid\n",
    "\n",
    "$I = \\frac{m}{12} \\cdot \\begin{pmatrix}  y^2 + z^2 & 0 &0 \\\\\n",
    "                                         0 & x^2 + z^2  & 0 \\\\\n",
    "                                         0 & 0 & x^2 + y^2 \\\\\n",
    " \\end{pmatrix}$<br/>\n",
    "\n",
    "where $m$ represents the mass of the cuboid and $x,y,z$ the lengths of the object in their corresponding axis.\n"
   ]
  },
  {
   "cell_type": "code",
   "execution_count": 41,
   "id": "2c66bf2c-6fea-4b22-90cf-a2e7dcde73de",
   "metadata": {},
   "outputs": [],
   "source": [
    "import numpy as np\n",
    "def get_inertia_tensor_of_cuboid(mass, x, y, z):\n",
    "    inertia_xx = (mass / 12.0) * (y**2 + z**2)\n",
    "    inertia_yy = (mass / 12.0) * (x**2 + z**2)\n",
    "    inertia_zz = (mass / 12.0) * (x**2 + y**2)\n",
    "    return np.array([[inertia_xx, 0, 0], [0, inertia_yy, 0], [0, 0, inertia_zz]])"
   ]
  },
  {
   "cell_type": "markdown",
   "id": "29c8a29c-990a-4ea3-b97f-415c57fc3cb3",
   "metadata": {},
   "source": [
    "#### Cylinder\n",
    "\n",
    "$I = \\frac{m}{12} \\cdot \\begin{pmatrix}  3 \\cdot r^2 + z^2  & 0 &0 \\\\\n",
    "                                         0 & 3 \\cdot r^2 + z^2 & 0 \\\\\n",
    "                                         0 & 0 & 3 \\cdot m \\cdot r^2 \\\\\n",
    " \\end{pmatrix}$<br/>\n",
    "\n",
    " where $m$ represents the mass of an object, $r$ the radius and $z$ the length of the cylinder in $z$ direction.\n"
   ]
  },
  {
   "cell_type": "code",
   "execution_count": 42,
   "id": "2070a9b6-6b4c-44e0-bb42-5e15348edf3e",
   "metadata": {},
   "outputs": [],
   "source": [
    "import numpy as np\n",
    "def get_inertia_tensor_of_cylinder(m, r, z):\n",
    "    inertia_xx = inertia_yy = (m / 12.0) * (3*r**2 + z**2)\n",
    "    inertia_zz = (m / 12.0) * (6*r**2)\n",
    "    return np.array([[inertia_xx, 0, 0], [0, inertia_yy,0], [0,0, inertia_zz]])"
   ]
  },
  {
   "cell_type": "markdown",
   "id": "88f3fe5b-a207-43e4-afbe-d18398c141d3",
   "metadata": {},
   "source": [
    "### Custom Point of Rotation in Inertia Tensor\n",
    "\n",
    "In some cases we will need to adjust the rotation (not all elements are rotated around their center in our case). For this purpose, we will use the \"parallel axes theorem\" (also referred to as \"Steiner's theorem\") that allows a simple adaption to the center of rotation.\n",
    "\n",
    "$ I=I_{c}+ m \\cdot \\begin{pmatrix} d_y^2 + d_z^2  & -d_x \\cdot d_y & -d_x \\cdot d_z \\\\\n",
    "                 -d_x \\cdot d_y & d_x^2 + d_z^2 & -d_y \\cdot d_z \\\\\n",
    "                 -d_x \\cdot d_z  &  -d_y \\cdot d_z & d_x^2 + d_y^2 \\\\\n",
    " \\end{pmatrix}$\n",
    "\n",
    "where $I_{c}$ represents the inertia tensor around the principal axis and $d_x, d_y, d_z$ the displacement in the corresponding direction from the center.\n",
    "\n",
    "![rotation_axis](img/rotation_axis.png)"
   ]
  },
  {
   "cell_type": "code",
   "execution_count": 43,
   "id": "0d3e81e0-e4c9-4c85-8e39-afa2e72a3fd9",
   "metadata": {},
   "outputs": [],
   "source": [
    "def calc_steiner_offset(mass, dx, dy, dz):\n",
    "    return mass * np.array([[dy**2 + dz**2, -dx*dy, -dx*dz], [-dx*dy, dx**2 + dz**2, -dy*dz], [-dx*dz ,-dy*dz, dx**2 + dy**2]])"
   ]
  },
  {
   "cell_type": "markdown",
   "id": "8055644f-85d1-49be-a280-07dff4ee2c48",
   "metadata": {},
   "source": [
    "### Center of Mass\n",
    "\n",
    "The center of mass refers to the object center point. In URDF it is set to the joint's origin by default. This implies that the rotation of the element is set to the principle axis ($ x = y = z = 0$); which is often not correct.\n",
    "An example is shown in the following: if the center of mass is identical with the joint's origin, the element's center is expected to be positioned it's principle axis; to model its real center, we will shift the center of mass. The values for the shift are the same as for the parallel axes theorem. The center of mass is therefore closely related to the rotation point.\n",
    "\n",
    "![center_of_mass](img/center_of_mass.png)\n",
    "\n",
    "### Representation in URDF\n",
    "In URDF these values are defined within the ```inertial``` element that defines the sub-elements ```mass```, ```origin``` and ```inertia```; where ```origin``` describes the **center of mass** and ```inertia``` the inertia tensor.\n",
    "\n",
    "```\n",
    "<inertial>\n",
    " <mass value=\"7.3\" />\n",
    " <origin rpy=\"0.0 0.0 0.0\" xyz=\"0.0 0.0 0.0\" />\n",
    " <inertia ixx=\"0.0\" iyy=\"0.0\" izz=\"0.0\" ixy=\"0.0\" ixz=\"0.0\" iyz=\"0.0\" />\n",
    "</inertial>\n",
    "```"
   ]
  },
  {
   "cell_type": "markdown",
   "id": "d6760e07-91d8-42b3-80ca-475ccabb8a6d",
   "metadata": {},
   "source": [
    "### The Cuboid Inertia Tensor\n",
    "\n",
    "The following paragraphs represents a short proof on the cuboid inertia tensor. \n",
    "\n",
    "Background: we initially used the the cuboid inertia tensor from Wikipedia and after spending several hours trying to understand why my inertia values are incorrect, we figured out that the Wikipedia entry contained a typo and instead of just using a different source for the tensor, we made an attempt to prove the inertia tensor ourself.\n",
    "\n",
    "In general, the inertia tensor for solid $3$-dimensional objects rotating around their principal axis is defined as\n",
    "$$\n",
    "I_{i,i} = \\int_{V} \\rho \\cdot r_{i,i}^2 dV\n",
    "$$\n",
    "where $i \\in [1,2,3]$, representing the axis directions, $V$ the volume of the object, $\\rho$ its density and $r^2$ the squared distance to any orthogonal point. For a cube in $x$ direction we have \n",
    "$$\n",
    "I_{x,x} = \\int_{V} \\rho \\cdot (y^2 + z^2) dV\n",
    "$$\n",
    "\n",
    "\n",
    "![cuboid.png](img/cuboid_center.png)\n",
    "\n",
    "Since we consider only a rotation around the principle axis, we ignore all elements $j \\neq i$ and hence use a diagnonal matrix as the inertia tensor:\n",
    "$$\n",
    "I_{cm} = \\begin{pmatrix}  I_{xx} & 0 &0 \\\\\n",
    "                          0 &  I_{yy}  & 0 \\\\\n",
    "                           0 & 0 &  I_{zz} \\\\\n",
    " \\end{pmatrix}\n",
    "$$\n",
    "\n",
    "where \n",
    "$$\n",
    "I_{x,x} = \\int_{-\\frac{a}{2}}^{\\frac{a}{2}}\\int_{-\\frac{b}{2}}^{\\frac{b}{2}}\\int_{-\\frac{c}{2}}^{\\frac{c}{2}} \\rho (y^2 + z^2) dxdydz\n",
    "$$\n",
    "$$\n",
    "I_{y,y} = \\int_{-\\frac{a}{2}}^{\\frac{a}{2}}\\int_{-\\frac{b}{2}}^{\\frac{b}{2}}\\int_{-\\frac{c}{2}}^{\\frac{c}{2}} \\rho (x^2 + z^2) dxdydz\n",
    "$$\n",
    "$$\n",
    "I_{z,z} = \\int_{-\\frac{a}{2}}^{\\frac{a}{2}}\\int_{-\\frac{b}{2}}^{\\frac{b}{2}}\\int_{-\\frac{c}{2}}^{\\frac{c}{2}} \\rho (x^2 + y^2) dxdydz\n",
    "$$\n",
    "with $a$ representing the size of the cube in $x$, $b$ in $y$ and $c$ in $z$ direction. We use $\\pm\\frac{a}{2}$,  $\\pm \\frac{b}{2}$ and $\\pm \\frac{c}{2}$ as the ingetration limits since we place the cube's center point at the origin of its frame of reference $x = y = z = 0$ (refer image above).\n",
    "\n",
    "For $I_{xx}$ we have\n",
    "\n",
    "\\begin{align}\n",
    "I_{x,x} = &  \\int_{-\\frac{a}{2}}^{\\frac{a}{2}}\\int_{-\\frac{b}{2}}^{\\frac{b}{2}}\\int_{-\\frac{c}{2}}^{\\frac{c}{2}} \\rho (y^2 + z^2) dxdydz \\\\\n",
    " & = \\rho (\\int_{-\\frac{a}{2}}^{\\frac{a}{2}}\\int_{-\\frac{b}{2}}^{\\frac{b}{2}}\\int_{-\\frac{c}{2}}^{\\frac{c}{2}} (y^2 + z^2) dxdydz) \\\\\n",
    " &\\stackrel{\\text{Fubini}}{=} \\rho \\biggl( \\int_{-\\frac{a}{2}}^{\\frac{a}{2}} dx \\cdot \\int_{-\\frac{b}{2}}^{\\frac{b}{2}} y^2 dy + \\int_{-\\frac{a}{2}}^{\\frac{a}{2}} dx \\cdot \\int_{-\\frac{c}{2}}^{\\frac{c}{2}}  z^2 dz \\biggr) \\\\\n",
    " &\\stackrel{\\text{}}{=} \\rho \\left( x |_{-\\frac{a}{2}}^{\\frac{a}{2}} \\cdot \\frac{1}{3} y^3 |_{-\\frac{b}{2}}^{\\frac{b}{2}} + x |_{-\\frac{a}{2}}^{\\frac{a}{2}} \\cdot \\frac{1}{3} z^3 |_{-\\frac{a}{2}}^{\\frac{c}{2}} \\right)\\\\\n",
    " = & \\rho \\left( (\\frac{a}{2} - (-\\frac{a}{2})) \\cdot \\frac{1}{3} \\cdot \\left(\\frac{b}{2}^3 - (-\\frac{b}{2}^3) \\right) + (\\frac{a}{2} - (-\\frac{a}{2})) \\cdot \\left(\\frac{c}{2}^3 - (-\\frac{c}{2})^3) \\right)  \\right)\\\\\n",
    "  = & \\rho \\left( a \\cdot \\frac{1}{3} \\cdot 2 \\cdot (\\frac{b}{2})^3 + a \\cdot \\frac{1}{3} \\cdot2 \\cdot (\\frac{c}{2})^3  \\right)\\\\\n",
    "  = & \\rho \\cdot a \\left(\\frac{1}{3} \\cdot 2 \\cdot (\\frac{b}{2})^3 + \\frac{1}{3} \\cdot2 \\cdot (\\frac{c}{2})^3  \\right)\\\\\n",
    "  = & \\rho \\cdot a \\left(\\frac{1}{3} \\cdot \\frac{2b^3}{6} + \\frac{1}{3} \\cdot \\frac{2c^3}{6}  \\right)\\\\\n",
    "  = & \\rho \\cdot a \\left(\\frac{2b^3}{24} + \\frac{2c^3}{24}  \\right)\\\\\n",
    "  = & \\rho \\cdot a \\left(\\frac{b^3}{12} + \\frac{c^3}{12}  \\right)\\\\\n",
    "  = & \\rho \\cdot a \\cdot b \\cdot c \\left(\\frac{b^2}{12} + \\frac{c^2}{12}  \\right)\\\\\n",
    "  = & \\frac{\\rho \\cdot a \\cdot b \\cdot c}{12} \\left(b^2 +c^2 \\right)\n",
    "\\end{align}\n",
    "\n",
    "Since $ \\rho \\cdot a \\cdot b \\cdot c$ represents the mass $m$ and since the equation is straigthforward for $I_{yy}$ as well as $I_{zz}$ the result is the initial tensor defined above.\n",
    "\n",
    "$I = \\frac{m}{12} \\cdot \\begin{pmatrix}  b^2 + c^2 & 0 &0 \\\\\n",
    "                                         0 & a^2 + c^2  & 0 \\\\\n",
    "                                         0 & 0 & a^2 + b^2 \\\\\n",
    " \\end{pmatrix}$<br/>\n",
    "\n",
    "with $a,b,c$ representing the length of the object in $x,y,z$ respectively.\n",
    "\n",
    "An important observation here is that with an increased size of an object, let's say in scaled in each dimension, the inertia values increase non-linear.<br/>\n",
    "\n",
    "Example:\n",
    "for a cube of size $a=b=c=2$, and mass $12kg$ the inertia tensor is\n",
    "\n",
    "$I_{cube} =  \\begin{pmatrix}  8 & 0 &0 \\\\\n",
    "                              0 & 8  & 0 \\\\\n",
    "                              0 & 0 & 8 \\\\\n",
    " \\end{pmatrix}$<br/>\n",
    "\n",
    " while for a cube of size $a=b=c=4$ with the same mass the inertia tensor is\n",
    "\n",
    " $I_{cube} =  \\begin{pmatrix} 32 & 0 &0 \\\\\n",
    "                              0 & 32 & 0 \\\\\n",
    "                              0 & 0 & 32 \\\\\n",
    " \\end{pmatrix}$<br/>\n",
    "\n",
    "This implies that the size of an object has a significant impact on its resulting inertia values."
   ]
  },
  {
   "cell_type": "markdown",
   "id": "025e98bf-9978-42ce-b1fe-dadd8b7a4b88",
   "metadata": {},
   "source": [
    "## Segment 1\n",
    "\n",
    "<img src=\"img/segment_1.png\" alt=\"segment.png\" width=\"200\"/> <img src=\"img/segment_1_r.png\" alt=\"segment_1_r.png\" width=\"200\"/>\n",
    "\n",
    "### Characteristics\n",
    "<br/>\n",
    "\n",
    "**Bounding box**<br/>\n",
    "```\n",
    "x = 0.189 \n",
    "y = 0.189 \n",
    "z = 0.312\n",
    "```\n",
    "\n",
    "**Frame of reference**<br/>\n",
    "Origin is located at the top => the element's bottom is located at $z=-0.312m$  => $z:= -z$\n",
    "\n",
    "**Approx. geometric shape**<br/>\n",
    "We will approximate the element's shape with a cylinder of radius $r=0.076m$\n",
    "\n",
    "\n",
    "\n",
    "### Deriving Center of Mass\n",
    "\n",
    "***In $z$ direction: $d_z$***\n",
    "\n",
    "For the URDF, we need to designate the center of mass from the joint's origin; in the following referred to as the offset in $z$-axis: $d_z$.\n",
    "\n",
    "What we know is\n",
    "\n",
    "1. size of segment 1 along the $z$ axis is defined as $0.312$m. We will estimate the center of $z$ with $z_{center} = \\frac{0.312m}{2} = 0.156m$\n",
    "2. the element's max value for depth is $z=-0.312m$. This implies using the negative sign for the offset.\n",
    "\n",
    "Hence,<br/>\n",
    "$d_z = z_{center} = -\\frac{0.312m}{2} = -0.156m$\n",
    "\n",
    "<br/>\n",
    "Since segment 1 is a simple shape, we do not need to consider offsets for the $x$ and the $y$ direction. Our position offset regarding the center of mass is therefore simple.\n",
    "\n",
    "```\n",
    "<inertial>\n",
    "...\n",
    "  <origin rpy=\"0.0 0.0 0.0\" xyz=\"0.0 0.0 -0.156\" />\n",
    "...\n",
    "</inertial>\n",
    "```"
   ]
  },
  {
   "cell_type": "markdown",
   "id": "f07d270d-d731-453d-ade3-09b9a16f7466",
   "metadata": {},
   "source": [
    "### Deriving the Volume / Mass\n",
    "\n",
    "Blender output is $0.0073m^3$. Cross check with MeshLab yields a similar value by applying the \"Convex Hull\" remesh filter while calculating the volume from a cylinder based on the radius set above yields $0.00566m^3$ (refer calculation below). We will use the blender output for the volume and hence set $V = 0.0073$"
   ]
  },
  {
   "cell_type": "code",
   "execution_count": 44,
   "id": "7a948515-92ec-4d63-b84d-f9b4f320e0c3",
   "metadata": {},
   "outputs": [
    {
     "name": "stdout",
     "output_type": "stream",
     "text": [
      "0.005661501820146009\n"
     ]
    }
   ],
   "source": [
    "r=0.076; z=0.312\n",
    "print(get_volume_of_cylinder(r,z))"
   ]
  },
  {
   "cell_type": "markdown",
   "id": "ce039914-75bb-488f-8a76-16ca69bb8d00",
   "metadata": {},
   "source": [
    "Next we derive the mass from the volume using $m = \\rho \\cdot V$, with $\\rho = 1000\\frac{kg}{m^3}$ (water).\n",
    "\n",
    "This yields: $m = 1000\\frac{kg}{m^3} \\cdot 0.0073m^3 = 7.3kg$.<br/>\n",
    "\n",
    "We will use $7.3kg$ as the mass of segment 1."
   ]
  },
  {
   "cell_type": "code",
   "execution_count": 45,
   "id": "ee4f133e-a191-40b5-8875-451a64812e7b",
   "metadata": {},
   "outputs": [
    {
     "name": "stdout",
     "output_type": "stream",
     "text": [
      "7.3kg\n"
     ]
    }
   ],
   "source": [
    "rho = 1000; V = 0.0073\n",
    "print(str(get_mass_of_object(rho, V))+\"kg\")"
   ]
  },
  {
   "cell_type": "markdown",
   "id": "ff9ff2ab-a4e5-44f4-8673-55edf89d5120",
   "metadata": {},
   "source": [
    "### Inertia Tensor\n",
    "\n",
    "We know that the rotation for this element is around the principle axis (center of each axis) and since it looks very similar to a cylinder, we use inertia tensor of a cylinder.<br/>"
   ]
  },
  {
   "cell_type": "code",
   "execution_count": 46,
   "id": "c28ec319-e9c8-4b43-aaad-d1d961ce01d2",
   "metadata": {},
   "outputs": [
    {
     "name": "stdout",
     "output_type": "stream",
     "text": [
      "[[0.0697588 0.        0.       ]\n",
      " [0.        0.0697588 0.       ]\n",
      " [0.        0.        0.0210824]]\n"
     ]
    }
   ],
   "source": [
    "mass = 7.3; r = 0.076; z = 0.312;\n",
    "print(get_inertia_tensor_of_cylinder(mass,r,z))"
   ]
  },
  {
   "cell_type": "markdown",
   "id": "d335aae8-5d86-47a9-b4f5-bd100811fa83",
   "metadata": {},
   "source": [
    "<br/>\n",
    "\n",
    "```inertial``` attributes for segment 1:\n",
    "\n",
    "```\n",
    "<inertial>\n",
    " <mass value=\"7.3\" />\n",
    " <origin rpy=\"0.0 0.0 0.0\" xyz=\"0.0 0.0 -0.156\" />\n",
    " <inertia ixx=\"0.0697588\" iyy=\"0.0697588\" izz=\"0.0210824\" ixy=\"0.0\" ixz=\"0.0\" iyz=\"0.0\" />\n",
    "</inertial>\n",
    "```"
   ]
  },
  {
   "cell_type": "markdown",
   "id": "dc1a5d7f-6cfd-412f-9fdf-39b485043148",
   "metadata": {},
   "source": [
    "## Segment 2\n",
    "\n",
    "![segment_2](img/segment_2.png)\n",
    "\n",
    "### Characteristics\n",
    "\n",
    "\n",
    "| Bounding box| Frame of Reference | Geometric Shape | Center of Mass | V Blender | V MeshLab | V Simple | Mass |\n",
    "| -------- | ------- | ------- | ------- | ------- | ------- | ------- | ------- |\n",
    "| x = 0.155| Same as joint | cuboid | $d_z = z_{center} = \\frac{0.238}{2} = 0.119$ | <b>$0.005m^3$<b/> | $0.0049m^3$ |  $0.00686m^3$ | $5kg$ |\n",
    "| y = 0.238 | | | | | | | |\n",
    "| z = 0.186 | | | | | | | |"
   ]
  },
  {
   "cell_type": "markdown",
   "id": "b386efd8-2644-4fe3-9ae7-7a2f615a0627",
   "metadata": {},
   "source": [
    "### Inertia Tensor\n",
    "\n",
    "We know that the rotation for this element is around the principle axis (center of each axis) in $z$-direction. Hence, we apply the inertia tensor of a cuboid without modification.<br/>"
   ]
  },
  {
   "cell_type": "code",
   "execution_count": 47,
   "id": "776c9659-7314-404d-ae1b-e57b815c4217",
   "metadata": {},
   "outputs": [
    {
     "name": "stdout",
     "output_type": "stream",
     "text": [
      "[[0.03801667 0.         0.        ]\n",
      " [0.         0.02442542 0.        ]\n",
      " [0.         0.         0.03361208]]\n"
     ]
    }
   ],
   "source": [
    "mass=5.0; x=0.155; y=0.238; z=0.186\n",
    "print(get_inertia_tensor_of_cuboid(mass,x,y,z))"
   ]
  },
  {
   "cell_type": "markdown",
   "id": "5cf7d5e4-4fd2-4cb2-96b7-88fe9b7bd61a",
   "metadata": {},
   "source": [
    "```inertial``` information for segment 1:\n",
    "\n",
    "```\n",
    "<inertial>\n",
    " <mass value=\"5.0\" />\n",
    " <origin rpy=\"0.0 0.0 0.0\" xyz=\"0.0 0.0 0.119\" />\n",
    " <inertia ixx=\"0.03801667\" iyy=\"0.02442542\" izz=\"0.03361208\" ixy=\"0.0\" ixz=\"0.0\" iyz=\"0.0\" />\n",
    "</inertial>\n",
    "```"
   ]
  },
  {
   "attachments": {},
   "cell_type": "markdown",
   "id": "88f78fa0-43e3-4039-a5db-aef731bc8a20",
   "metadata": {},
   "source": [
    "## Segment 3\n",
    "![segment_3](img/segment_3.png)\n",
    "\n",
    "### Characteristics\n",
    "\n",
    "| Bounding box| Frame of Reference | Geometric Shape | V Blender | V MeshLab | V Simple | Mass |\n",
    "| -------- | ------- | ------- |  ------- |  ------- |  ------- |  ------- |\n",
    "| x = 0.126 | Same as joint | cuboid | $0.0025m^3$ | $0.0023m^3$ | $0.005999616m^3$ | $2.5kg$ |\n",
    "| y = 0.372 | | | | | | |\n",
    "| z = 0.128 | | | | | | |\n",
    "\n",
    "\n",
    "### Deriving Center of Mass\n",
    "\n",
    "\n",
    "***In $y$ direction: $d_y$***\n",
    "\n",
    "What we know is\n",
    "\n",
    "1. size of segment 3 along the $y$ axis is defined as $0.372$m. The center of $y$ is therefore $y_{center} = \\frac{0.372m}{2} = 0.186m$\n",
    "2. the element's joint is located close to $y=0$. We will set the joint's position at $y=0.06m$ based on the mesh (refer image below) and refer to it as $y_{joint}$.\n",
    " \n",
    "    ![joint_pos_segment_3.png](img/joint_pos_segment_3.png)\n",
    "\n",
    "Hence,<br/>\n",
    "$d_y = y_{center} - y_{joint} = \\frac{0.372m}{2} - 0.06m = 0.126m$\n",
    "\n",
    "![segment_3_dy.png](img/segment_3_dy.png)\n",
    "\n",
    "\n",
    "***In $z$ direction: $d_z$***\n",
    "\n",
    "We can see that the end part segment 3 is slightly displaced along its $z$-axis (refer image below). The deviation displayed in blender is $\\approx 0.06m$. We will use this value for $d_z$\n",
    "\n",
    "![segment_3_dz.png](img/segment_3_dz.png)\n",
    "\n",
    "***In $x$ direction: $d_x$***\n",
    "Not required.\n",
    "<br/>\n",
    "<br/>\n",
    "<br/>\n",
    "\n",
    "With $d_y$ and $d_z$ known, we set the offsets for the center of mass for segment 3 in the URDF as\n",
    "\n",
    "```\n",
    "<inertial>\n",
    "...\n",
    "  <origin rpy=\"0.0 0.0 0.0\" xyz=\"0.0 0.126 0.06\" />\n",
    "...\n",
    "</inertial>\n",
    "```\n"
   ]
  },
  {
   "cell_type": "markdown",
   "id": "3724539f-619f-4081-a27c-851544ed45eb",
   "metadata": {},
   "source": [
    "### Inertia Tensor\n",
    "We know that the rotation for this element is not around the principle axis (center of each axis) but at the beginning of the element in $x$ direction (representing an arm). This implies the usage of the parallel axis theorem for the calculation of the inertia tensor.\n",
    "\n",
    "\n",
    "Similar to the previous elements, we will estimate the inertia of the element with a cuboid but change its center of mass accordingly.\n",
    "\n",
    "In order to limit over estimation of the cuboid, we will use the following cube size for the inertia tensor (we are basically scaling down the cuboid used to approximate the segment):\n",
    "```\n",
    "x = 0.1\n",
    "y = 0.262\n",
    "z = 0.102\n",
    "```\n",
    "\n",
    "\n",
    "We first calculate inertia tensor centered at the origin."
   ]
  },
  {
   "cell_type": "code",
   "execution_count": 48,
   "id": "0eb8da8e-92c8-4bce-a29f-834b509e1409",
   "metadata": {},
   "outputs": [
    {
     "data": {
      "text/plain": [
       "array([[0.01646833, 0.        , 0.        ],\n",
       "       [0.        , 0.00425083, 0.        ],\n",
       "       [0.        , 0.        , 0.01638417]])"
      ]
     },
     "execution_count": 48,
     "metadata": {},
     "output_type": "execute_result"
    }
   ],
   "source": [
    "mass = 2.5; x = 0.1; y = 0.262; z = 0.102\n",
    "get_inertia_tensor_of_cuboid(mass, x, y, z)"
   ]
  },
  {
   "attachments": {},
   "cell_type": "markdown",
   "id": "f215ad8e-95ac-498e-b1d1-cd494dbf434d",
   "metadata": {},
   "source": [
    "Next, we apply the parallel axis theorem defined as <br/>\n",
    "$$\n",
    "I=I_{cm}+md^{2}\n",
    "$$ <br/>\n",
    "where $I_{cm}$ represents the inertia tensor of the principal axis, $m$ the mass and $d$ the distance from the principal axis (refer definition above). Taking over the values for $d_x$, $d_y$ and $d_z$ from the center of mass, we receive our final inertia tensor for segment 3."
   ]
  },
  {
   "cell_type": "code",
   "execution_count": 49,
   "id": "e1f77146-3b11-4e8b-a916-4ac8c1a0ed3b",
   "metadata": {},
   "outputs": [
    {
     "data": {
      "text/plain": [
       "array([[ 0.0722775,  0.       ,  0.       ],\n",
       "       [ 0.       ,  0.015615 , -0.0189   ],\n",
       "       [ 0.       , -0.0189   ,  0.0632775]])"
      ]
     },
     "execution_count": 49,
     "metadata": {},
     "output_type": "execute_result"
    }
   ],
   "source": [
    "mass = 2.5; x = 0.126; y = 0.312; z = 0.126\n",
    "dx = 0; dy = 0.126; dz = 0.06\n",
    "get_inertia_tensor_of_cuboid(mass, x, y, z) + calc_steiner_offset(mass, dx, dy, dz)"
   ]
  },
  {
   "cell_type": "markdown",
   "id": "21d30a84-1668-4e8d-9cfa-889f4b86975f",
   "metadata": {},
   "source": [
    "```inertial``` attributes for segment 3:\n",
    "```\n",
    "<inertial>\n",
    "    <mass value=\"2.5\" />\n",
    "    <origin rpy=\"0.0 0.0 0.0\" xyz=\"0.0 0.126 0.06\" />\n",
    "    <inertia ixx=\"0.06515833\" ixy=\"0.0\" ixz=\"0.0\" iyy=\"0.01316667\" iyz=\"-0.0189\" izz=\"0.05607417\" />\n",
    "</inertial>\n",
    "```"
   ]
  },
  {
   "cell_type": "markdown",
   "id": "cbe24f67-05be-4ace-a325-f6b56af31413",
   "metadata": {},
   "source": [
    "## Segment 4\n",
    "\n",
    "![segment_4](img/segment_4.png)\n",
    "\n",
    "### Characteristics\n",
    "\n",
    "\n",
    "| Bounding box| Frame of Reference | Geometric Shape | Center of Mass | V Blender | V MeshLab | V Simple | Mass |\n",
    "| -------- | ------- | ------- | -------- | ------- | ------- | ------- | ------- |\n",
    "| x = 0.118 | $z:= -z$ | cylinder: $r=0.14/2$ | $z_{center} = -\\frac{0.225}{2} = -0.1122$ | $0.0058m^3$ | $0.0025m^3$ | $0.0034m^3$ | $3.4kg$ |\n",
    "| y = 0.142 | | | | | | | |\n",
    "| z = 0.225 | | | | | | | |\n"
   ]
  },
  {
   "cell_type": "markdown",
   "id": "dcbcd3d7-827b-4c82-b67f-db6b07552245",
   "metadata": {},
   "source": [
    "### Inertia Tensor"
   ]
  },
  {
   "cell_type": "code",
   "execution_count": 50,
   "id": "4b6e409f-58f5-4cfe-ab89-3164567abda7",
   "metadata": {},
   "outputs": [
    {
     "name": "stdout",
     "output_type": "stream",
     "text": [
      "[[0.01850875 0.         0.        ]\n",
      " [0.         0.01850875 0.        ]\n",
      " [0.         0.         0.00833   ]]\n"
     ]
    }
   ],
   "source": [
    "mass = 3.4; r = 0.07; z = 0.225;\n",
    "print(get_inertia_tensor_of_cylinder(mass,r,z))"
   ]
  },
  {
   "cell_type": "markdown",
   "id": "1344542e-51db-41a5-8f29-078ad2623b73",
   "metadata": {},
   "source": [
    "```inertial``` attributes for segment 4:\n",
    "```\n",
    "<inertial>\n",
    " <mass value=\"3.4\" />\n",
    " <origin rpy=\"0.0 0.0 0.0\" xyz=\"0.0 -0.112 0.0\" />\n",
    " <inertia ixx=\"0.01850875\" ixy=\"0.0\" ixz=\"0.0\" iyy=\"0.01850875\" iyz=\"0.0\" izz=\"0.00833\" />\n",
    "</inertial>\n",
    "```"
   ]
  },
  {
   "cell_type": "markdown",
   "id": "2e8aeb9a-60e1-4f0f-896c-430b248cf8c6",
   "metadata": {},
   "source": [
    "## Segment 5\n",
    "\n",
    "![segment_5](img/segment_5.png)\n",
    "### Characteristics\n",
    "\n",
    "| Bounding box| Frame of Reference | Geometric Shape | Center of Mass | V Blender | V MeshLab | V Simple | Mass |\n",
    "| -------- | ------- | ------- | -------- | ------- | ------- | ------- | ------- |\n",
    "| x = 0.123 | Same as joint | cylinder: $r=z_{center}$ | $z_{center} = \\frac{0.143}{2} = 0.071$ | $0.0011m^3$ | $0.003m^3$ | $0.0022m^3$ | $3.0kg$ |\n",
    "| y = 0.108 | | | | | | | |\n",
    "| z = 0.268 | | | | | | | |"
   ]
  },
  {
   "cell_type": "code",
   "execution_count": 51,
   "id": "a22d85be",
   "metadata": {},
   "outputs": [
    {
     "name": "stdout",
     "output_type": "stream",
     "text": [
      "0.0030310085921834325\n",
      "3.0kg\n"
     ]
    }
   ],
   "source": [
    "print(get_volume_of_cylinder(0.06,0.268))\n",
    "rho = 1000; V = 0.003\n",
    "print(str(get_mass_of_object(rho, V))+\"kg\")"
   ]
  },
  {
   "cell_type": "markdown",
   "id": "e10546dd-3b5c-4b51-9f9c-e1037f751bac",
   "metadata": {},
   "source": [
    "### Inertia Tensor"
   ]
  },
  {
   "cell_type": "code",
   "execution_count": 52,
   "id": "4fabfe2a-c695-40ae-8a45-3826a93a0a49",
   "metadata": {},
   "outputs": [
    {
     "name": "stdout",
     "output_type": "stream",
     "text": [
      "[[0.02173675 0.         0.        ]\n",
      " [0.         0.02173675 0.        ]\n",
      " [0.         0.         0.0075615 ]]\n"
     ]
    }
   ],
   "source": [
    "mass = 3.0; r = 0.071; z = 0.268\n",
    "print(get_inertia_tensor_of_cylinder(mass,r,z))"
   ]
  },
  {
   "cell_type": "markdown",
   "id": "6d5aeb6f-b6f8-4bad-b36c-c63ea9affe6d",
   "metadata": {},
   "source": [
    "```inertial``` attributes for segment 5:\n",
    "```\n",
    "<inertial>\n",
    " <mass value=\"1.1\" />\n",
    " <origin rpy=\"0.0 0.0 0.0\" xyz=\"0.0 0.0 0.071\" />\n",
    " <inertia ixx=\"0.02173675\" iyy=\"0.02173675\" izz=\"0.0075615\" ixy=\"0.0\" ixz=\"0.0\" iyz=\"0.0\" />\n",
    "</inertial>\n",
    "```"
   ]
  },
  {
   "cell_type": "markdown",
   "id": "cdff01b9-9020-471e-aaae-d10e5c176cb7",
   "metadata": {},
   "source": [
    "## Segment 6\n",
    "\n",
    "![segment_6](img/segment_6.png)\n",
    "\n",
    "### Characteristics\n",
    "\n",
    "| Bounding box| Frame of Reference | Geometric Shape | Center of Mass | V Blender | V MeshLab | V Simple | Mass |\n",
    "| -------- | ------- | ------- | -------- | ------- | ------- | ------- | ------- |\n",
    "| x = 0.18   |   Same as joint  | cuboid | $y_{center} = \\frac{0.13}{2} \\approx 0.071$* | $0.0004m^3$ | $0.001429m^3$  | $0.0032m^3$ | $1.5kg$ |\n",
    "| y = 0.13 | | | | | | | |\n",
    "| z = 0.093 | | | | | | | |\n",
    "\n",
    "\\* due to odd shape"
   ]
  },
  {
   "cell_type": "markdown",
   "id": "89729990-d7b3-463a-89bf-bb3a134fc9b1",
   "metadata": {},
   "source": [
    "### Inertia Tensor"
   ]
  },
  {
   "cell_type": "code",
   "execution_count": 53,
   "id": "6ac7f337-08cc-46ce-bff1-ba33b9ebb762",
   "metadata": {},
   "outputs": [
    {
     "data": {
      "text/plain": [
       "array([[0.00319363, 0.        , 0.        ],\n",
       "       [0.        , 0.00513113, 0.        ],\n",
       "       [0.        , 0.        , 0.0061625 ]])"
      ]
     },
     "execution_count": 53,
     "metadata": {},
     "output_type": "execute_result"
    }
   ],
   "source": [
    "mass = 1.5; x = 0.18; y = 0.13; z = 0.093\n",
    "get_inertia_tensor_of_cuboid(mass, x, y, z) "
   ]
  },
  {
   "cell_type": "markdown",
   "id": "893fae21-ab47-48e1-8314-87088affc9af",
   "metadata": {},
   "source": [
    "```inertial``` attributes for segment 6:\n",
    "```\n",
    "<inertial>\n",
    " <mass value=\"1.5\" />\n",
    " <origin rpy=\"0.0 0.0 0.0\" xyz=\"0.0 0.071 0.0\" />\n",
    " <inertia ixx=\"0.00319363\" iyy=\"0.00513113\" izz=\"0.0061625\" ixy=\"0.0\" ixz=\"0.0\" iyz=\"0.0\" />\n",
    "</inertial>\n",
    "```"
   ]
  },
  {
   "cell_type": "markdown",
   "id": "4711cd07-dd37-46cd-ba82-7bd02c1f0da8",
   "metadata": {},
   "source": [
    "## Segment 7\n",
    "\n",
    "![finger](img/segment_7.png)\n",
    "\n",
    "### Characteristics\n",
    "\n",
    "| Bounding box| Frame of Reference | Geometric Shape | Center of Mass | V Blender | V MeshLab | V Simple | Mass |\n",
    "| -------- | ------- | ------- | -------- | ------- | ------- | ------- | ------- |\n",
    "| x = 0.224 | tilted around $x$ bu 45 deg* | cuboid | $y_{center} = \\frac{0.175}{2} \\approx 0.09$ <br/> $z_{center} = 0.04$** | - | - | $0.0048$ | $4.0kg$ |\n",
    "| y = 0.175 | | | | | | | |\n",
    "| z = 0.124 | | | | | | | |\n",
    "\n",
    "\\* we tilt the intertia to match the actual mesh <br/>\n",
    "\\** due to tilt"
   ]
  },
  {
   "cell_type": "code",
   "execution_count": 54,
   "id": "ac5cd9df",
   "metadata": {},
   "outputs": [
    {
     "name": "stdout",
     "output_type": "stream",
     "text": [
      "0.0048608\n",
      "4.8608\n"
     ]
    }
   ],
   "source": [
    "x=0.224; y =0.175; z=0.124\n",
    "V = get_volume_of_cuboid(x, y, z)\n",
    "mass = V * 1000\n",
    "print(V)\n",
    "print(mass)"
   ]
  },
  {
   "cell_type": "markdown",
   "id": "a5d23232-f700-47df-b76f-77af555a4a97",
   "metadata": {},
   "source": [
    "### Inertia Tensor"
   ]
  },
  {
   "cell_type": "code",
   "execution_count": 55,
   "id": "b1aa133b-064d-4e08-962e-767bcef92b70",
   "metadata": {},
   "outputs": [
    {
     "data": {
      "text/plain": [
       "array([[0.01533367, 0.        , 0.        ],\n",
       "       [0.        , 0.02185067, 0.        ],\n",
       "       [0.        , 0.        , 0.02693367]])"
      ]
     },
     "execution_count": 55,
     "metadata": {},
     "output_type": "execute_result"
    }
   ],
   "source": [
    "get_inertia_tensor_of_cuboid(4.0, x, y, z) "
   ]
  },
  {
   "cell_type": "markdown",
   "id": "168eef89-3cc4-49ed-a1b7-cee5f18be37a",
   "metadata": {},
   "source": [
    "```inertial``` attributes for segment 7:\n",
    "```\n",
    "<inertial>\n",
    " <mass value=\"4.0\" />\n",
    " <origin rpy=\"0.785 0.0 0.0\" xyz=\"0.0 0.09 0.04\"/>\n",
    " <inertia ixx=\"0.02693367\" iyy=\"0.01533367\" izz=\"0.02185067\" ixy=\"0.0\" ixz=\"0.0\" iyz=\"0.0\" />\n",
    "</inertial>\n",
    "```"
   ]
  },
  {
   "cell_type": "markdown",
   "id": "4b86cef8-4292-44ad-b33d-d5ec421052c9",
   "metadata": {},
   "source": [
    "## Finger 1 / 2\n",
    "\n",
    "![finger](img/finger.png)\n",
    "\n",
    "### Characteristics\n",
    "\n",
    "| Bounding box| Frame of Reference | Geometric Shape | Center of Mass | V Blender | V MeshLab | V Simple | Mass |\n",
    "| -------- | ------- | ------- | -------- | ------- | ------- | ------- | ------- |\n",
    "| x = 0.034 | tiled by +/-14 deg around $x$ axis to match mesh | cuboid | $x_{center} = +/-0.46$ <br/> $z_{center} = 0.56$ | $0.00003m^3$ | $0.000052m^3$ | - | $0.05kg$ |\n",
    "| y = 0.056 | | | | | | | |\n",
    "| z = 0.072 | | | | | | | |\n",
    "\n"
   ]
  },
  {
   "cell_type": "markdown",
   "id": "2f388b1d-a808-4b5a-9811-3a3f5d6a44ca",
   "metadata": {},
   "source": [
    "### Inertia Tensor"
   ]
  },
  {
   "cell_type": "code",
   "execution_count": 56,
   "id": "c1f25757-d8f9-406c-a2cd-8d55ea73e54f",
   "metadata": {},
   "outputs": [
    {
     "data": {
      "text/plain": [
       "array([[3.46666667e-05, 0.00000000e+00, 0.00000000e+00],\n",
       "       [0.00000000e+00, 2.64166667e-05, 0.00000000e+00],\n",
       "       [0.00000000e+00, 0.00000000e+00, 1.78833333e-05]])"
      ]
     },
     "execution_count": 56,
     "metadata": {},
     "output_type": "execute_result"
    }
   ],
   "source": [
    "mass = 0.05; x = 0.034; y = 0.056; z = 0.072\n",
    "get_inertia_tensor_of_cuboid(mass, x, y, z) "
   ]
  },
  {
   "cell_type": "markdown",
   "id": "310afcb0",
   "metadata": {},
   "source": [
    "```inertial``` attributes for finger 1:\n",
    "```\n",
    "<inertial>\n",
    " <mass value=\"0.05\" />\n",
    " <origin rpy=\"0.0 -0.25 0.0\" xyz=\"0.046 0.0 0.056\"/>\n",
    " <inertia ixx=\"3.46666667e-05\" iyy=\"2.64166667e-05\" izz=\"1.78833333e-05\" ixy=\"0.0\" ixz=\"0.0\" iyz=\"0.0\" />\n",
    "</inertial>\n",
    "```"
   ]
  },
  {
   "cell_type": "markdown",
   "id": "33f9635a",
   "metadata": {},
   "source": [
    "## Vacuum Gripper up / down\n",
    "\n",
    "![vacuum+_gripper](img/vacuum_gripper.png)\n",
    "\n",
    "### Characteristics\n",
    "\n",
    "| Bounding box| Frame of Reference | Geometric Shape | Center of Mass | V Blender | V MeshLab | V Simple | Mass |\n",
    "| -------- | ------- | ------- | -------- | ------- | ------- | ------- | ------- |\n",
    "| x = 0.05 | same as parent | cuboid | $z_{center} = 0.05$ | - | - | - | $0.05kg$* |\n",
    "| y = 0.05 | | | | | | | |\n",
    "| z = 0.05 | | | | | | | |\n",
    "\n",
    "\\* taken over from finger gripper"
   ]
  },
  {
   "cell_type": "code",
   "execution_count": 57,
   "id": "19ac4a5e",
   "metadata": {},
   "outputs": [
    {
     "data": {
      "text/plain": [
       "array([[2.08333333e-05, 0.00000000e+00, 0.00000000e+00],\n",
       "       [0.00000000e+00, 2.08333333e-05, 0.00000000e+00],\n",
       "       [0.00000000e+00, 0.00000000e+00, 2.08333333e-05]])"
      ]
     },
     "execution_count": 57,
     "metadata": {},
     "output_type": "execute_result"
    }
   ],
   "source": [
    "mass = 0.05; x = 0.05; y = 0.05; z = 0.05\n",
    "get_inertia_tensor_of_cuboid(mass, x, y, z) "
   ]
  },
  {
   "cell_type": "markdown",
   "id": "8ffead9b-316a-4094-a01b-fd89c808b789",
   "metadata": {},
   "source": [
    "```inertial``` attributes for the vacuum grippers are:\n",
    "```\n",
    "<inertial>\n",
    "    <mass value=\"0.05\"/>\n",
    "    <origin rpy=\"0.0 0.0 0.0\" xyz=\"0.0 0.0 0.05\"/>\n",
    "    <inertia ixx=\"2.08333333e-05\" ixy=\"0.0\" ixz=\"0.0\" iyy=\"2.08333333e-05\" iyz=\"0.0\" izz=\"2.08333333e-05\"/>\n",
    "</inertial>\n",
    "```"
   ]
  },
  {
   "cell_type": "markdown",
   "id": "d8fef1b6-6efd-44e8-89df-7a41d0d323c6",
   "metadata": {},
   "source": [
    "## Axis\n",
    "\n",
    "![axis](img/axis.png)\n",
    "\n",
    "### Characteristics\n",
    "\n",
    "| Bounding box| Frame of Reference | Geometric Shape | Center of Mass | V Blender | V MeshLab | V Simple | Mass |\n",
    "| -------- | ------- | ------- | -------- | ------- | ------- | ------- | ------- |\n",
    "| x = 0.126 | Same as joint | cuboid | $z_{center} = \\frac{1.2}{2} = 0.6$ | $0.0086m^3$ | $0.011986m^3$  | $0.009m^3$ | $8.6kg$ |\n",
    "| y = 0.061 | | | | | | | |\n",
    "| z = 1.2   | | | | | | | |\n"
   ]
  },
  {
   "cell_type": "markdown",
   "id": "3356fc72-41a8-4301-8f6d-ee4272ecfa99",
   "metadata": {},
   "source": [
    "### Inertia Tensor"
   ]
  },
  {
   "cell_type": "code",
   "execution_count": 58,
   "id": "550c716f-e677-4797-a751-53b7c7c2d6a2",
   "metadata": {},
   "outputs": [
    {
     "data": {
      "text/plain": [
       "array([[1.03466672, 0.        , 0.        ],\n",
       "       [0.        , 1.0433778 , 0.        ],\n",
       "       [0.        , 0.        , 0.01404452]])"
      ]
     },
     "execution_count": 58,
     "metadata": {},
     "output_type": "execute_result"
    }
   ],
   "source": [
    "mass = 8.6; x = 0.126; y = 0.061; z = 1.2\n",
    "get_inertia_tensor_of_cuboid(mass, x, y, z) "
   ]
  },
  {
   "cell_type": "markdown",
   "id": "52cbb9c9-1b84-4462-a84e-3ace6c6ac0c0",
   "metadata": {},
   "source": [
    "```inertial``` attributes for axis:\n",
    "```\n",
    "<inertial>\n",
    " <mass value=\"8.6\" />\n",
    " <origin rpy=\"0.0 0.0 0.0\" xyz=\"0.0 0.0 0.6\" />\n",
    " <inertia ixx=\"1.03466672\" iyy=\"1.0433778\" izz=\"0.01404452\" ixy=\"0.0\" ixz=\"0.0\" iyz=\"0.0\" />\n",
    "</inertial>\n",
    "```"
   ]
  },
  {
   "cell_type": "markdown",
   "id": "9e805065-7da6-420b-931e-0480b031b93b",
   "metadata": {},
   "source": [
    "## Carriage\n",
    "\n",
    "![carriage](img/carriage.png)\n",
    "\n",
    "### Characteristics\n",
    "\n",
    "| Bounding box| Frame of Reference | Geometric Shape | Center of Mass | V Blender | V MeshLab | V Simple | Mass |\n",
    "| -------- | ------- | ------- | -------- | ------- | ------- | ------- | ------- |\n",
    "| x = 0.151 | Same as joint | cuboid | $z_{center} = \\frac{22}{2} = 0.11$ | $0.0007m^3$ | - | $0.0009m^3$ | $0.7kg$ |\n",
    "| y = 0.0297 | | | | | | | |\n",
    "| z = 0.22   | | | | | | | |\n"
   ]
  },
  {
   "cell_type": "markdown",
   "id": "4e02268e-da8c-4bce-a9de-17a42b11ae87",
   "metadata": {},
   "source": [
    "### Inertia Tensor"
   ]
  },
  {
   "cell_type": "code",
   "execution_count": 59,
   "id": "b6e4b025-a4ec-47fc-b359-4b151f73267f",
   "metadata": {},
   "outputs": [
    {
     "data": {
      "text/plain": [
       "array([[0.00287479, 0.        , 0.        ],\n",
       "       [0.        , 0.00415339, 0.        ],\n",
       "       [0.        , 0.        , 0.00138151]])"
      ]
     },
     "execution_count": 59,
     "metadata": {},
     "output_type": "execute_result"
    }
   ],
   "source": [
    "mass = 0.7; x = 0.151; y = 0.0297; z = 0.22\n",
    "get_inertia_tensor_of_cuboid(mass, x, y, z) "
   ]
  },
  {
   "cell_type": "markdown",
   "id": "085a40c2-c7b1-457c-aec7-afc89cf22661",
   "metadata": {},
   "source": [
    "```inertial``` attributes for carriage:\n",
    "```\n",
    "<inertial>\n",
    " <mass value=\"0.7\" />\n",
    " <origin rpy=\"0.0 0.0 0.0\" xyz=\"0.0 0.0 0.11\" />\n",
    " <inertia ixx=\"0.00287479\" iyy=\"0.00415339\" izz=\"0.00138151\" ixy=\"0.0\" ixz=\"0.0\" iyz=\"0.0\" />\n",
    "</inertial>\n",
    "```"
   ]
  },
  {
   "cell_type": "markdown",
   "id": "89f81fd0-9907-4661-96f0-596b03ec4f54",
   "metadata": {},
   "source": [
    "## Result\n",
    "\n",
    "The resulting graphical interpretations of inertia (left) and mass (right) are shown in the following. Some are obviously too conservative and their refinement will be subject to further adaptions.\n",
    "\n",
    " <img src=\"img/robot_inertia.png\" alt=\"robot_inertia\" width=\"300\"/> <img src=\"img/robot_center_of_mass.png\" alt=\"robot_center_of_mass\" width=\"300\"/>\n"
   ]
  },
  {
   "cell_type": "markdown",
   "id": "db5c8f18",
   "metadata": {},
   "source": [
    "# Collision Modelling\n",
    "\n",
    "Collisions define boundaries of robot elements. They allow to identify physical collisions of the robot with itself or with its environment and can be either defined with simple geometric shapes or with meshes.\n",
    "\n",
    "Our initial approach was to use the same meshes as for the visual tags. This was unfortunately not the optimal approach due to the high resolution of the meshes. According to the [ROS Wiki](http://wiki.ros.org/urdf/XML/link) one should use meshes with less than 1000 faces for the collision tag while one face represents the area between the vertices of a mesh:\n",
    "\n",
    "![mesh_faces](img/mesh_faces.png)\n",
    "\n",
    "\n",
    "Our smallest mesh (segment 7) contained approx. 7.000 faces while segment 3 (a more complex mesh) contained more than 35.000 faces.\n",
    "\n",
    "Reducing the faces in Blender is rather simple:\n",
    "\n",
    "```\n",
    "import mesh\n",
    "in 3D Viewpoint: select Modifier Properties\n",
    "Add Modifier -> Decimate -> Select Ratio of 0.01 < x < 0.03\n",
    "export STL\n",
    "```\n",
    "\n",
    "The result for segment 2 is shown in the following (left original mesh with 27.000 faces, right decimated mesh with 270 faces)\n",
    "\n",
    "![segment_2](img/segment_2.png)  <img src=\"img/segment_2_reduced.png\" alt=\"segment_2_reduced\" width=\"400\"/>\n"
   ]
  }
 ],
 "metadata": {
  "kernelspec": {
   "display_name": "base",
   "language": "python",
   "name": "python3"
  },
  "language_info": {
   "codemirror_mode": {
    "name": "ipython",
    "version": 3
   },
   "file_extension": ".py",
   "mimetype": "text/x-python",
   "name": "python",
   "nbconvert_exporter": "python",
   "pygments_lexer": "ipython3",
   "version": "3.9.12"
  }
 },
 "nbformat": 4,
 "nbformat_minor": 5
}
